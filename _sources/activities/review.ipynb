{
 "cells": [
  {
   "cell_type": "markdown",
   "id": "b974aecd",
   "metadata": {},
   "source": [
    "# Review\n",
    "\n",
    "\n",
    "## Review After Class\n",
    "\n",
    "After each class, you will need to review the day's material. This includes reviewing prismia chat to see any questions you got wrong and reading the notes. Some days there will be specific additional activities and questions to answer.  These should be in your KWL repo."
   ]
  },
  {
   "cell_type": "code",
   "execution_count": 1,
   "id": "f192d16b",
   "metadata": {
    "tags": [
     "hide-input"
    ]
   },
   "outputs": [],
   "source": [
    "import os\n",
    "from IPython.display import Markdown, display\n",
    "\n",
    "rev_file_list = sorted(os.listdir('../_review/'))\n"
   ]
  },
  {
   "cell_type": "code",
   "execution_count": 2,
   "id": "65ae194d",
   "metadata": {
    "tags": [
     "hide-input"
    ]
   },
   "outputs": [
    {
     "data": {
      "text/markdown": [
       "[2022-09-07](../notes/2022-09-07)"
      ],
      "text/plain": [
       "<IPython.core.display.Markdown object>"
      ]
     },
     "metadata": {},
     "output_type": "display_data"
    },
    {
     "data": {
      "text/markdown": [
       "1. More practice with [GitHub terminology](https://classroom.github.com/a/0Focv0x-)\n",
       "1. Review the notes after I post them\n"
      ],
      "text/plain": [
       "<IPython.core.display.Markdown object>"
      ]
     },
     "metadata": {},
     "output_type": "display_data"
    },
    {
     "data": {
      "text/markdown": [
       "[2022-09-12](../notes/2022-09-12)"
      ],
      "text/plain": [
       "<IPython.core.display.Markdown object>"
      ]
     },
     "metadata": {},
     "output_type": "display_data"
    },
    {
     "data": {
      "text/markdown": [
       "1. review notes after they are posted, both rendered and the raw markdown\n",
       "1. map out your computing knowledge and add it to your kwl chart repo. this can be an image that you upload or a text-based outline. (optional) try mapping out using [mermaid](https://mermaid-js.github.io/mermaid/#/) syntax, we'll be using other tools that will faciltate rendering later\n",
       "1. fill in hte first two columns of your KWL chart\n"
      ],
      "text/plain": [
       "<IPython.core.display.Markdown object>"
      ]
     },
     "metadata": {},
     "output_type": "display_data"
    },
    {
     "data": {
      "text/markdown": [
       "[2022-09-14](../notes/2022-09-14)"
      ],
      "text/plain": [
       "<IPython.core.display.Markdown object>"
      ]
     },
     "metadata": {},
     "output_type": "display_data"
    },
    {
     "data": {
      "text/markdown": [
       "1. Follow along with the classmate issue in your inclass repo from today. Work with someone you know or find a collaborator in the [Discussion board](https://github.com/introcompsys/fa22community/discussions/)\n",
       "1. read the notes\n",
       "1. try using git in your IDE of choice, Share a tip in the [course discussion repo](https://github.com/introcompsys/fa22community/discussions/7)\n"
      ],
      "text/plain": [
       "<IPython.core.display.Markdown object>"
      ]
     },
     "metadata": {},
     "output_type": "display_data"
    },
    {
     "data": {
      "text/markdown": [
       "[2022-09-19](../notes/2022-09-19)"
      ],
      "text/plain": [
       "<IPython.core.display.Markdown object>"
      ]
     },
     "metadata": {},
     "output_type": "display_data"
    },
    {
     "data": {
      "text/markdown": [
       "1. Review the notes\n",
       "1. Reorganize a folder on your computer ( good candidate may be  desktop or downloads folder), using only a terminal to make new directories, move files, check what's inside them, etc. Answer reflection questions (will be in notes) in a new file, `terminal.md` in your kwl repo.\n",
       "1. Make a PR that adds a glossary entry to your team repo to define a term we have learned so far. Create an issue and tag yourself to \"claim\" a term and check the issues and PRs that are open before your.\n",
       "1. Review past classes activities (eg via the activities section on the left) and catchup if appropriate\n",
       "\n",
       "\n",
       "\n",
       "\n",
       "Start with a file explorer open, but then try to close it and use only command line tools to explore and make your choices\n",
       "\n",
       "```markdown\n",
       "### Terminal File moving reflection\n",
       "1. Did this get easier toward the end?\n",
       "1. Use the history to see which commands you used and how many times each, make a table below.\n",
       "1. Did you have to look up how to do anything we had not done in class?\n",
       "1. When do you think that using the terminal will be better than using your GUI file explorer?\n",
       "1. What questions/challenges/ relfections do you have after this?\n",
       "1. What kinds of things might you want to write a bash script for given what you know in bash so far? come up with 1-2 scenarios\n",
       "```\n"
      ],
      "text/plain": [
       "<IPython.core.display.Markdown object>"
      ]
     },
     "metadata": {},
     "output_type": "display_data"
    },
    {
     "data": {
      "text/markdown": [
       "[2022-09-21](../notes/2022-09-21)"
      ],
      "text/plain": [
       "<IPython.core.display.Markdown object>"
      ]
     },
     "metadata": {},
     "output_type": "display_data"
    },
    {
     "data": {
      "text/markdown": [
       "1. Read today's notes\n",
       "1. Update your KWL chart with the new items and any learned items.\n",
       "1. Update the title to any discussion threads you have created to be more descriptive\n",
       "1. add `branches.md` to your KWL repo and describe how branches work and what things to watch out for in your own words.\n"
      ],
      "text/plain": [
       "<IPython.core.display.Markdown object>"
      ]
     },
     "metadata": {},
     "output_type": "display_data"
    },
    {
     "data": {
      "text/markdown": [
       "[2022-09-26](../notes/2022-09-26)"
      ],
      "text/plain": [
       "<IPython.core.display.Markdown object>"
      ]
     },
     "metadata": {},
     "output_type": "display_data"
    },
    {
     "data": {
      "text/markdown": [
       "1. Review and update your listing of how data moves through a program in your `abstraction.md`. Answer reflection questions.\n",
       "1. practice with the hardware simulator, try to understand its assembly language enough to modify it and walk through what other steps happen.\n",
       "1. Update your KWL chart with the new items and any learned items\n"
      ],
      "text/plain": [
       "<IPython.core.display.Markdown object>"
      ]
     },
     "metadata": {},
     "output_type": "display_data"
    },
    {
     "data": {
      "text/markdown": [
       "[2022-09-28](../notes/2022-09-28)"
      ],
      "text/plain": [
       "<IPython.core.display.Markdown object>"
      ]
     },
     "metadata": {},
     "output_type": "display_data"
    },
    {
     "data": {
      "text/markdown": [
       "1. Practice with git log and redirects to write the commit history of your main branch for your kwl chart to a file `gitlog.txt` and commit that file to your kwl repo.\n",
       "1. Review the notes\n",
       "1. Update your kwl chart with what you have learned or new questions\n"
      ],
      "text/plain": [
       "<IPython.core.display.Markdown object>"
      ]
     },
     "metadata": {},
     "output_type": "display_data"
    },
    {
     "data": {
      "text/markdown": [
       "[2022-10-03](../notes/2022-10-03)"
      ],
      "text/plain": [
       "<IPython.core.display.Markdown object>"
      ]
     },
     "metadata": {},
     "output_type": "display_data"
    },
    {
     "data": {
      "text/markdown": [
       "1. Fix any open PRs you have that need to have a commit moved to a different branch, etc.\n",
       "1. In your github in class repo, create a series of commits that tell as story of how you might have made a mistake and fixed it. Use git log and redirects to write that log to a file in your KWL repo and then annotate your story.\n",
       "1. Create tracking issues for last week's activities and link them to PRs for any activities you have already completed.\n"
      ],
      "text/plain": [
       "<IPython.core.display.Markdown object>"
      ]
     },
     "metadata": {},
     "output_type": "display_data"
    },
    {
     "data": {
      "text/markdown": [
       "[2022-10-05](../notes/2022-10-05)"
      ],
      "text/plain": [
       "<IPython.core.display.Markdown object>"
      ]
     },
     "metadata": {},
     "output_type": "display_data"
    },
    {
     "data": {
      "text/markdown": [
       "1. Review the notes\n",
       "2. For the core \"Porcelain\" git commands we have used (add, commit), make a table of which git plumbing commands (of those we have seen) they use in `gitplumbingreview.md` in your KWL repo. it might be multiple Porcelain for each plumbing.\n",
       "3. Contribute to your group repo and review a classmate's contribution\n"
      ],
      "text/plain": [
       "<IPython.core.display.Markdown object>"
      ]
     },
     "metadata": {},
     "output_type": "display_data"
    }
   ],
   "source": [
    "for rev_file in rev_file_list:\n",
    "    date_str = rev_file[:-3]\n",
    "    date_link = '[' + date_str + '](../notes/' + date_str + ')'\n",
    "    display(Markdown(date_link))\n",
    "    display(Markdown('../_review/' + rev_file))"
   ]
  },
  {
   "cell_type": "markdown",
   "id": "7b7625f6",
   "metadata": {},
   "source": [
    "## Collaboration\n",
    "\n",
    "You will be in a \"team\" that is your built in collaboration group to practice using Git Collaboratively.  \n",
    "There will be assignments that are to be completed in that repo as well.  These activities will be marked accordingly.  You will take turns and each of you is required to do the initialization step on a recurring basis.  \n",
    "\n",
    "This is also where you can ask questions and draft definitions to things.\n",
    "\n",
    "\n",
    "## Peer Review  \n",
    "\n",
    "\n",
    "If there are minor errors/typos, suggest corrections inline.\n",
    "\n",
    "In your summary comments answer the following:\n",
    "- Is the contribution clear and concise? Identify any aspect of the writing that tripped you up as a reader.\n",
    "- Are the statements in the contribution verifiable (either testable or cited source)? If so, how do you know they are correct?\n",
    "- Does the contribution offer complete information? That is, does it rely on specific outside knowledge or could another CS student not taking our class understand it?\n",
    "- Identify one strength in the contribution, and identify one aspect that could be strengthened further.\n",
    "\n",
    "Choose an action:\n",
    "- If the suggestions necessary before merging, select **request changes**.  \n",
    "- If it is good enough to merge, mark it **approved** and open a new issue for the broader suggestions.\n",
    "- If you are unsure, post as a **comment** and invite other group members to join the discussion."
   ]
  }
 ],
 "metadata": {
  "jupytext": {
   "text_representation": {
    "extension": ".md",
    "format_name": "myst",
    "format_version": 0.13,
    "jupytext_version": "1.10.3"
   }
  },
  "kernelspec": {
   "display_name": "Python 3",
   "language": "python",
   "name": "python3"
  },
  "language_info": {
   "codemirror_mode": {
    "name": "ipython",
    "version": 3
   },
   "file_extension": ".py",
   "mimetype": "text/x-python",
   "name": "python",
   "nbconvert_exporter": "python",
   "pygments_lexer": "ipython3",
   "version": "3.8.14"
  },
  "source_map": [
   12,
   24,
   34,
   42
  ]
 },
 "nbformat": 4,
 "nbformat_minor": 5
}