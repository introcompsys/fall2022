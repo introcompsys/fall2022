{
 "cells": [
  {
   "cell_type": "markdown",
   "id": "555adea0",
   "metadata": {},
   "source": [
    "```{important}\n",
    "The grade free zone covers classes 1-5, ending on 2022-09-21.\n",
    "```\n",
    "\n",
    "\n",
    "# More Practice\n",
    "\n",
    "```{note}\n",
    "these are listed by the date they were *posted*\n",
    "```"
   ]
  },
  {
   "cell_type": "code",
   "execution_count": 1,
   "id": "1e972394",
   "metadata": {
    "tags": [
     "hide-input"
    ]
   },
   "outputs": [],
   "source": [
    "import os\n",
    "from IPython.display import Markdown, display\n",
    "\n",
    "prep_file_list = sorted(os.listdir('../_practice/'))\n"
   ]
  },
  {
   "cell_type": "code",
   "execution_count": 2,
   "id": "41e8ff2c",
   "metadata": {
    "tags": [
     "hide-input"
    ]
   },
   "outputs": [
    {
     "data": {
      "text/markdown": [
       "[2022-09-12](../notes/2022-09-12)"
      ],
      "text/plain": [
       "<IPython.core.display.Markdown object>"
      ]
     },
     "metadata": {},
     "output_type": "display_data"
    },
    {
     "data": {
      "text/markdown": [
       "1. read Chapter 1, \"Decoding your confusion while coding\" in [The Programmer's Brain](https://www.manning.com/books/the-programmers-brain#toc) add a file called brain.md to your kwl repo that summarizes your thoughts on the chapter and how, if at all, it changes how you think about debugging and learning to program.\n"
      ],
      "text/plain": [
       "<IPython.core.display.Markdown object>"
      ]
     },
     "metadata": {},
     "output_type": "display_data"
    },
    {
     "data": {
      "text/markdown": [
       "[2022-09-14](../notes/2022-09-14)"
      ],
      "text/plain": [
       "<IPython.core.display.Markdown object>"
      ]
     },
     "metadata": {},
     "output_type": "display_data"
    },
    {
     "data": {
      "text/markdown": [
       "1. Download the course website and your group repo via terminal. Try these on different days to get \"sapced repetition\" and help remember better.\n",
       "1. Explore the difference between git add and git commit try committing and pushing without adding, then add and push without committing. Describe what happens in each case in your gitoffline.md\n"
      ],
      "text/plain": [
       "<IPython.core.display.Markdown object>"
      ]
     },
     "metadata": {},
     "output_type": "display_data"
    },
    {
     "data": {
      "text/markdown": [
       "[2022-09-19](../notes/2022-09-19)"
      ],
      "text/plain": [
       "<IPython.core.display.Markdown object>"
      ]
     },
     "metadata": {},
     "output_type": "display_data"
    },
    {
     "data": {
      "text/markdown": [
       "1. Once your PRs in your kwl are merged, add a Table of Contents to the README with relative links to each file\n",
       "1. Add cheatsheet entry to your team repo to do something of interest with git or shell. Make an issue for it first and assign yourself so that your team mates know you are working on that topic. \n"
      ],
      "text/plain": [
       "<IPython.core.display.Markdown object>"
      ]
     },
     "metadata": {},
     "output_type": "display_data"
    },
    {
     "data": {
      "text/markdown": [
       "[2022-09-21](../notes/2022-09-21)"
      ],
      "text/plain": [
       "<IPython.core.display.Markdown object>"
      ]
     },
     "metadata": {},
     "output_type": "display_data"
    },
    {
     "data": {
      "text/markdown": [
       "1. Try creating a merge conflict and resolving it using your favorite IDE.\n"
      ],
      "text/plain": [
       "<IPython.core.display.Markdown object>"
      ]
     },
     "metadata": {},
     "output_type": "display_data"
    },
    {
     "data": {
      "text/markdown": [
       "[2022-09-26](../notes/2022-09-26)"
      ],
      "text/plain": [
       "<IPython.core.display.Markdown object>"
      ]
     },
     "metadata": {},
     "output_type": "display_data"
    },
    {
     "data": {
      "text/markdown": [
       "1. add a hardware term to your group repo.  Remember to check other issues and then post an issue and self-assign it before you start working so that two people do not make the same one.  Review one other PR.\n",
       "1. Expand on your update to `abstraction.md`: Can you reconcile different ways you have seen memory before?\n",
       "1. Try understanding the max.hack and rect.hack. Make notes and answer the questions below in `assemblyexplore.md`.\n",
       "\n",
       "```\n",
       "1. Explain how max.hack works in detail.\n",
       "1. Write code in a high level language that would compile into this program. Try writing multiple different versions.\n",
       "1. What does this max.hack assume has happened that it doesn't include in its body.\n",
       "1. What does rect.hack do?  \n",
       "1. What did you learn trying to figure out how it works? \n",
       "```\n"
      ],
      "text/plain": [
       "<IPython.core.display.Markdown object>"
      ]
     },
     "metadata": {},
     "output_type": "display_data"
    },
    {
     "data": {
      "text/markdown": [
       "[2022-09-28](../notes/2022-09-28)"
      ],
      "text/plain": [
       "<IPython.core.display.Markdown object>"
      ]
     },
     "metadata": {},
     "output_type": "display_data"
    },
    {
     "data": {
      "text/markdown": [
       "\n",
       "1. <i class=\"fa-solid fa-star\"></i> Read about different workflows in git and add responses to the below in a `workflows.md` in your kwl repo. Two good places to read from are [Git Book](https://git-scm.com/book/en/v2/Distributed-Git-Distributed-Workflows#ch05-distributed-git) and the [atlassian Docs](https://www.atlassian.com/git/tutorials/comparing-workflows)\n",
       "1. Contribute either a glossary term, cheatsheet item, or additional resource/reference to your group repo.\n",
       "1. Complete one peer review of a team mate's contribution\n",
       "\n",
       "\n",
       "\n",
       "```\n",
       "## Workflow Reflection\n",
       "\n",
       "1. What advantages might it provide that git can be used with different workflows?\n",
       "1. Which workflow do you think you would like to work with best and why?\n",
       "1. Describe a scenario that might make it better for the whole team to use a workflow other than the one you prefer.  \n",
       "```\n"
      ],
      "text/plain": [
       "<IPython.core.display.Markdown object>"
      ]
     },
     "metadata": {},
     "output_type": "display_data"
    },
    {
     "data": {
      "text/markdown": [
       "[2022-10-03](../notes/2022-10-03)"
      ],
      "text/plain": [
       "<IPython.core.display.Markdown object>"
      ]
     },
     "metadata": {},
     "output_type": "display_data"
    },
    {
     "data": {
      "text/markdown": [
       "1. Create an issue on your group repo for a new vocab term or cheatsheet item from your terminal, check that there is not an exisiting issue first. Write the history from this activity to `offlineissue.md` in your kwl repo.\n",
       "1. If you plan to do projects. Create [milestones](https://docs.github.com/en/issues/using-labels-and-milestones-to-track-work/creating-and-editing-milestones-for-issues-and-pull-requests) for the intermediate deadlines (proposal 1, proposal 2, project 1, project 2 with deadlines)\n"
      ],
      "text/plain": [
       "<IPython.core.display.Markdown object>"
      ]
     },
     "metadata": {},
     "output_type": "display_data"
    },
    {
     "data": {
      "text/markdown": [
       "[2022-10-05](../notes/2022-10-05)"
      ],
      "text/plain": [
       "<IPython.core.display.Markdown object>"
      ]
     },
     "metadata": {},
     "output_type": "display_data"
    },
    {
     "data": {
      "text/markdown": [
       "1. Read about [git internals](https://git-scm.com/book/en/v2/Git-Internals-Git-Objects) to review what we did in class in greater detail. Make `gitplumbingdetail.md` by copying your `gitplumbingreview.md` and then add in the full detail including all plumbing commands. Also add one more high level command (revert, reset, pull, fetch) to your table.\n",
       "2. Add to your `gitplumbingdetail.md` file explanations of the main git operations we have seen (add, commit, push) in your own words in a way that will either help you remember or how you would explain it to someone else at a high level. This might be analogies or explanations using other programming concepts or concepts from a hobby. Add this under a subheading `##` with a descriptive title (for example \"Git In terms of <hobyb>\")\n",
       "3. For one thing your understanding changed or an open question you, look up or experiment to find the answer and contribute the question and answer to the course website.\n"
      ],
      "text/plain": [
       "<IPython.core.display.Markdown object>"
      ]
     },
     "metadata": {},
     "output_type": "display_data"
    },
    {
     "data": {
      "text/markdown": [
       "[2022-10-12](../notes/2022-10-12)"
      ],
      "text/plain": [
       "<IPython.core.display.Markdown object>"
      ]
     },
     "metadata": {},
     "output_type": "display_data"
    },
    {
     "data": {
      "text/markdown": [
       "1. Learn more about how git is working on changing from SHA-1 to SHA-256 and answer the transition questions below)\n",
       "1. Research the use of non base 10 numbers systems in another culture and contribute one to your group repo\n",
       "1. (priority) In a language of your choice or pseudocode, write a short program to convert, without using libraries, between all pairs of (binary, decimal, hexidecimal) in `numbers.md`. Test your code, but include in the markdown file enclosed in three backticks so that it is a \"code block\" write the name of the language after the ticks like:\n",
       "\n",
       "````\n",
       "```python\n",
       "# python code\n",
       "```\n",
       "\n",
       "````\n",
       "\n",
       "```\n",
       "## transition questions\n",
       "1. Why make the switch?\n",
       "2. Learn more about one collision\n",
       "3. What impact will the swith have on how git works?\n",
       "4. If you have scripts that operate on git repos, what might you do to prepare for the switch?\n",
       "```\n"
      ],
      "text/plain": [
       "<IPython.core.display.Markdown object>"
      ]
     },
     "metadata": {},
     "output_type": "display_data"
    }
   ],
   "source": [
    "for prep_file in prep_file_list:\n",
    "    date_str = prep_file[:-3]\n",
    "    date_link = '[' + date_str + '](../notes/' + date_str + ')'\n",
    "    display(Markdown(date_link))\n",
    "    display(Markdown('../_practice/' + prep_file))"
   ]
  }
 ],
 "metadata": {
  "jupytext": {
   "text_representation": {
    "extension": ".md",
    "format_name": "myst",
    "format_version": 0.13,
    "jupytext_version": "1.10.3"
   }
  },
  "kernelspec": {
   "display_name": "Python 3",
   "language": "python",
   "name": "python3"
  },
  "language_info": {
   "codemirror_mode": {
    "name": "ipython",
    "version": 3
   },
   "file_extension": ".py",
   "mimetype": "text/x-python",
   "name": "python",
   "nbconvert_exporter": "python",
   "pygments_lexer": "ipython3",
   "version": "3.8.14"
  },
  "source_map": [
   12,
   25,
   35
  ]
 },
 "nbformat": 4,
 "nbformat_minor": 5
}