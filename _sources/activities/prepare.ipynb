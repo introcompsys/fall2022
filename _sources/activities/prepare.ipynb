{
 "cells": [
  {
   "cell_type": "markdown",
   "id": "da72445c",
   "metadata": {},
   "source": [
    "```{important}\n",
    "The grade free zone covers classes 1-5, ending on 2022-09-21.\n",
    "```\n",
    "\n",
    "\n",
    "# Prepare for the next class\n",
    "\n",
    "```{warning}\n",
    "these are listed by the date they were *posted* (eg the content here under Feb 1, was posted Feb 1, and should be done before the Feb 3 class)\n",
    "\n",
    "*below* refers to following in the notes\n",
    "```"
   ]
  },
  {
   "cell_type": "code",
   "execution_count": 1,
   "id": "8038c06e",
   "metadata": {
    "tags": [
     "hide-input"
    ]
   },
   "outputs": [],
   "source": [
    "import os\n",
    "from IPython.display import Markdown, display\n",
    "\n",
    "prep_file_list = sorted(os.listdir('../_prepare/'))\n"
   ]
  },
  {
   "cell_type": "code",
   "execution_count": 2,
   "id": "35aeeb3c",
   "metadata": {
    "tags": [
     "hide-input"
    ]
   },
   "outputs": [
    {
     "data": {
      "text/markdown": [
       "[2022-09-07](../notes/2022-09-07)"
      ],
      "text/plain": [
       "<IPython.core.display.Markdown object>"
      ]
     },
     "metadata": {},
     "output_type": "display_data"
    },
    {
     "data": {
      "text/markdown": [
       "- Read the syllabus, explore [website](https://introcompsys.github.io/fall2022/)\n",
       "- Bring questions about the course\n",
       "- Think about one thing you've learned really well (computing or not) and how do you know that you know it?  (bring your example)\n",
       "- Post an introduction to your classmates [on our discussion forum](https://github.com/introcompsys/fa22community/discussions/1)\n"
      ],
      "text/plain": [
       "<IPython.core.display.Markdown object>"
      ]
     },
     "metadata": {},
     "output_type": "display_data"
    },
    {
     "data": {
      "text/markdown": [
       "[2022-09-12](../notes/2022-09-12)"
      ],
      "text/plain": [
       "<IPython.core.display.Markdown object>"
      ]
     },
     "metadata": {},
     "output_type": "display_data"
    },
    {
     "data": {
      "text/markdown": [
       "1. find 2-3 examples of things in programming you have got working, but did not really understand. this could be errors you fixed, or something you just know you're supposed to do, but not why. Add them to our course [Discussions in General](https://github.com/introcompsys/fa22community/discussions/categories/general).  Start a new thread and/or comment on others if theirs are related to yours.\n",
       "1. Make sure you have a working environment for next week. Use slack to ask for help.\n",
       "    - install [GitBash](https://gitforwindows.org/) on windows (optional for others)\n",
       "    - make sure you have Xcode on MacOS\n",
       "    - install [the GitHub CLI](https://github.com/cli/cli#installation) on all OSs\n"
      ],
      "text/plain": [
       "<IPython.core.display.Markdown object>"
      ]
     },
     "metadata": {},
     "output_type": "display_data"
    },
    {
     "data": {
      "text/markdown": [
       "[2022-09-14](../notes/2022-09-14)"
      ],
      "text/plain": [
       "<IPython.core.display.Markdown object>"
      ]
     },
     "metadata": {},
     "output_type": "display_data"
    },
    {
     "data": {
      "text/markdown": [
       "1. Make a list of 3-5 terms you have learned so far and try defining them in your own words.\n",
       "1. using your terminal, download your KWL repo and update your 'learned' column on a new branch **do not merge this until instructed**\n",
       "1. answer the questions below in a new markdown file in your KWL\n",
       "\n",
       "Questions:\n",
       "```markdown\n",
       "## Reflection\n",
       "1. Describe the staging area (what happens after git add) in your own words. Can you think of an analogy for it? Is there anything similar in a hobby you have?\n",
       "2. what step is the hardest for you to remember?\n",
       "3. Compare and contrast using git on the terminal and through your IDE. when would each be better/worse?\n",
       "```\n"
      ],
      "text/plain": [
       "<IPython.core.display.Markdown object>"
      ]
     },
     "metadata": {},
     "output_type": "display_data"
    },
    {
     "data": {
      "text/markdown": [
       "[2022-09-19](../notes/2022-09-19)"
      ],
      "text/plain": [
       "<IPython.core.display.Markdown object>"
      ]
     },
     "metadata": {},
     "output_type": "display_data"
    },
    {
     "data": {
      "text/markdown": [
       "\n",
       "1. Examine a large project you have done or by finding an open source project on GitHub.  Answer the reflection questions in `software.md` in your kwl repo. (will be in notes)\n",
       "1. [install h/w simulator](https://www.nand2tetris.org/software)\n",
       "1. map out how you think about data moving through a small program and bring it with you to class (no need to submit)\n",
       "\n",
       "\n",
       "\n",
       "\n",
       "```markdown\n",
       "## Software Reflection\n",
       "\n",
       "1. link to public repo if applicable or title of your project\n",
       "1. What types of files are there that are not code?\n",
       "1. What different types of code files are in the project? Do they serve different goals?\n",
       "1. Is it all in one language or are there multiple?\n",
       "1. Try to figure out (remember) how the project works. What types of things, without running the code can you look at at a high level?\n",
       "```\n"
      ],
      "text/plain": [
       "<IPython.core.display.Markdown object>"
      ]
     },
     "metadata": {},
     "output_type": "display_data"
    },
    {
     "data": {
      "text/markdown": [
       "[2022-09-21](../notes/2022-09-21)"
      ],
      "text/plain": [
       "<IPython.core.display.Markdown object>"
      ]
     },
     "metadata": {},
     "output_type": "display_data"
    },
    {
     "data": {
      "text/markdown": [
       "1. Read through the Grading Contract README and sample contracts. Start drafting your contract. Bring questions to class on Monday.\n",
       "1. Bring git questions or scenarios you want to be able to solve to class on Wednesday\n"
      ],
      "text/plain": [
       "<IPython.core.display.Markdown object>"
      ]
     },
     "metadata": {},
     "output_type": "display_data"
    },
    {
     "data": {
      "text/markdown": [
       "[2022-09-26](../notes/2022-09-26)"
      ],
      "text/plain": [
       "<IPython.core.display.Markdown object>"
      ]
     },
     "metadata": {},
     "output_type": "display_data"
    },
    {
     "data": {
      "text/markdown": [
       "1. Bring questions about git to class on Wednesday.\n",
       "1. Your grading contract proposal is due Thursday at 3pm.\n",
       "1. Make sure that the `gh` CLI tool works by using it to create an issue called test on your kwl repo with `gh issue create`\n"
      ],
      "text/plain": [
       "<IPython.core.display.Markdown object>"
      ]
     },
     "metadata": {},
     "output_type": "display_data"
    },
    {
     "data": {
      "text/markdown": [
       "[2022-09-28](../notes/2022-09-28)"
      ],
      "text/plain": [
       "<IPython.core.display.Markdown object>"
      ]
     },
     "metadata": {},
     "output_type": "display_data"
    },
    {
     "data": {
      "text/markdown": [
       "1. Try exploring your a repo manually and bring more questions\n",
       "1. Make sure that you have a grading contract that has been reviewed at least once\n"
      ],
      "text/plain": [
       "<IPython.core.display.Markdown object>"
      ]
     },
     "metadata": {},
     "output_type": "display_data"
    },
    {
     "data": {
      "text/markdown": [
       "[2022-10-03](../notes/2022-10-03)"
      ],
      "text/plain": [
       "<IPython.core.display.Markdown object>"
      ]
     },
     "metadata": {},
     "output_type": "display_data"
    },
    {
     "data": {
      "text/markdown": [
       "1. In a `gitunderstanding.md` list 3-5 items from the following categories (1) things you have had trouble with in git in the past and how they relate to your new understanding (b) things that your understanding has changed based on today's class (c) things about git you still have questions about\n",
       "1. Follow up on your grading contract as needed\n"
      ],
      "text/plain": [
       "<IPython.core.display.Markdown object>"
      ]
     },
     "metadata": {},
     "output_type": "display_data"
    },
    {
     "data": {
      "text/markdown": [
       "[2022-10-05](../notes/2022-10-05)"
      ],
      "text/plain": [
       "<IPython.core.display.Markdown object>"
      ]
     },
     "metadata": {},
     "output_type": "display_data"
    },
    {
     "data": {
      "text/markdown": [
       "1. Make notes on _how_ you use IDEs for the next couple of weeks using the template file in the course notes (will provide prompts and tips). We will come back to these notes in class later, but it is best to record over a time period instead of trying to remember at that time. Store your notes in your kwl repo in `idethoughts.md` on an `ide_prep` branch.\n",
       "2. make sure that you have a `test` git repo that matches the notes.\n",
       "\n",
       "```markdown\n",
       "# IDE Thoughts\n",
       "\n",
       "## Actions Accomplished\n",
       "<!-- list what things you do: run code/ edit code/ create new files/ etc; no need to comment on what the code you write does -->\n",
       "\n",
       "\n",
       "## Features Used\n",
       "<!-- list features of it that you use, like a file explorer, debugger, etc -->\n",
       "\n",
       "\n",
       "```\n"
      ],
      "text/plain": [
       "<IPython.core.display.Markdown object>"
      ]
     },
     "metadata": {},
     "output_type": "display_data"
    },
    {
     "data": {
      "text/markdown": [
       "[2022-10-12](../notes/2022-10-12)"
      ],
      "text/plain": [
       "<IPython.core.display.Markdown object>"
      ]
     },
     "metadata": {},
     "output_type": "display_data"
    },
    {
     "data": {
      "text/markdown": [
       "1. Bring to class a scenario where you think a small command line program or bash script could be useful.  A command line program is a program that we execute on the command line.  For example the courseutils kwlcheck  is one I wrote.  \n",
       "1. Bring one scenario in git that you have seen or anticipate that we have not seen the solution for\n"
      ],
      "text/plain": [
       "<IPython.core.display.Markdown object>"
      ]
     },
     "metadata": {},
     "output_type": "display_data"
    }
   ],
   "source": [
    "for prep_file in prep_file_list:\n",
    "    date_str = prep_file[:-3]\n",
    "    date_link = '[' + date_str + '](../notes/' + date_str + ')'\n",
    "    display(Markdown(date_link))\n",
    "    display(Markdown('../_prepare/' + prep_file))"
   ]
  }
 ],
 "metadata": {
  "jupytext": {
   "text_representation": {
    "extension": ".md",
    "format_name": "myst",
    "format_version": 0.13,
    "jupytext_version": "1.10.3"
   }
  },
  "kernelspec": {
   "display_name": "Python 3",
   "language": "python",
   "name": "python3"
  },
  "language_info": {
   "codemirror_mode": {
    "name": "ipython",
    "version": 3
   },
   "file_extension": ".py",
   "mimetype": "text/x-python",
   "name": "python",
   "nbconvert_exporter": "python",
   "pygments_lexer": "ipython3",
   "version": "3.8.14"
  },
  "source_map": [
   12,
   27,
   37
  ]
 },
 "nbformat": 4,
 "nbformat_minor": 5
}