{
 "cells": [
  {
   "cell_type": "markdown",
   "id": "4a53a083",
   "metadata": {},
   "source": [
    "# KWL Chart\n",
    "\n",
    "(kwlworkflows)=\n",
    "## Working with your KWL Repo\n",
    "\n",
    "```{important}\n",
    "The `main` branch should only contain material that has been reviewed and approved by the instructors.\n",
    "```\n",
    "\n",
    "````{margin}\n",
    "```{tip}\n",
    "You could apply branch protections on your feedback branch if you like\n",
    "```\n",
    "````\n",
    "\n",
    "\n",
    "1. Work on a specific branch for each activity you work on\n",
    "1. when it is ready for review, create a PR from the item-specifc branch to `main`.\n",
    "1. when it is approved, merge into main.\n",
    "\n",
    "<!--\n",
    "```{tip}\n",
    "After your KWL repo is a jupyterbook, you may want to move your chart into a chart.md from the README. You could then put content from this section in the README to have an in-place reminder.\n",
    "``` -->\n",
    "\n",
    "(kwlmin)=\n",
    "## Minimum Rows\n",
    "\n",
    "\n",
    "\n",
    "\n",
    "```Markdown\n",
    "# KWL Chart\n",
    "\n",
    "\n",
    "<!-- replace the  _ in the table or add new rows as needed -->\n",
    "\n",
    "| Topic | Know | Want to Know | Learned |\n",
    "| ------| ------- | ------ | ------- |\n",
    "| Git | _ | _ | _ |\n",
    "| GitHub | _ | _ | _ |\n",
    "| Terminal | _ | _ | _ |\n",
    "| IDE | _ | _ | _ |\n",
    "| text editors | _ | _ | _ |\n",
    "|file system | _ | _ |_ |\n",
    "|bash | _ | _ | _ |\n",
    "|abstraction | _ | _ | _ |\n",
    "|programming languages | _ | _ | _ |\n",
    "|git workflows | _ | _ | _ |\n",
    "| git branches | _ | _ | _ |\n",
    "| bash redirects | _ | _ | _ |\n",
    "|number systems | _ | _ | _ |\n",
    "| merge conflicts | _ | _ | _ |\n",
    "| documentation | _ | _ | _ |\n",
    "| templating | _ | _ | _ |\n",
    "|bash scripting | _ | _ | _ |\n",
    "| developer tools | _ | _ | _ |\n",
    "| networking | _ | _ | _ |\n",
    "|ssh | _ | _ | _ |\n",
    "| ssh keys | _ | _ | _ |\n",
    "|compiling | _ | _ | _ |\n",
    "| linking   | _ | _ | _ |\n",
    "| building | _ | _ | _ |\n",
    "| machine representation  | _ | _ | _ |\n",
    "| integers   | _ | _ | _ |\n",
    "| floating point  | _ | _ | _ |\n",
    "|logic gates | _ | _ | _ |\n",
    "| ALU | _ | _ | _ |\n",
    "| binary operations | _ | _ | _ |\n",
    "| memory | _ | _ | _ |\n",
    "| cache | _ | _ | _ |\n",
    "| register | _ | _ | _ |\n",
    "| clock | _ | _ | _ |\n",
    "| Concurrency | _ | _ | _ |\n",
    "```\n",
    "\n",
    "\n",
    "\n",
    "## Required Files"
   ]
  },
  {
   "cell_type": "code",
   "execution_count": 1,
   "id": "9d72d082",
   "metadata": {
    "tags": [
     "remove-input"
    ]
   },
   "outputs": [
    {
     "ename": "IndexError",
     "evalue": "list index out of range",
     "output_type": "error",
     "traceback": [
      "\u001b[0;31m---------------------------------------------------------------------------\u001b[0m",
      "\u001b[0;31mIndexError\u001b[0m                                Traceback (most recent call last)",
      "Cell \u001b[0;32mIn[1], line 20\u001b[0m\n\u001b[1;32m     17\u001b[0m \u001b[38;5;28;01mwith\u001b[39;00m \u001b[38;5;28mopen\u001b[39m(\u001b[38;5;124m'\u001b[39m\u001b[38;5;124m../_data/practice_list.txt\u001b[39m\u001b[38;5;124m'\u001b[39m,\u001b[38;5;124m'\u001b[39m\u001b[38;5;124mr\u001b[39m\u001b[38;5;124m'\u001b[39m) \u001b[38;5;28;01mas\u001b[39;00m f:\n\u001b[1;32m     18\u001b[0m     pra \u001b[38;5;241m=\u001b[39m f\u001b[38;5;241m.\u001b[39mreadlines()\n\u001b[0;32m---> 20\u001b[0m prac_df \u001b[38;5;241m=\u001b[39m pd\u001b[38;5;241m.\u001b[39mDataFrame([[date_file[\u001b[38;5;241m0\u001b[39m][:\u001b[38;5;241m10\u001b[39m],date_file[\u001b[38;5;241m1\u001b[39m]] \u001b[38;5;28;01mfor\u001b[39;00m date_file \u001b[38;5;129;01min\u001b[39;00m [a\u001b[38;5;241m.\u001b[39msplit() \u001b[38;5;28;01mfor\u001b[39;00m a \u001b[38;5;129;01min\u001b[39;00m pra]],\n\u001b[1;32m     21\u001b[0m                       columns \u001b[38;5;241m=\u001b[39m [\u001b[38;5;124m'\u001b[39m\u001b[38;5;124mdate\u001b[39m\u001b[38;5;124m'\u001b[39m,\u001b[38;5;124m'\u001b[39m\u001b[38;5;124mfile\u001b[39m\u001b[38;5;124m'\u001b[39m])\n\u001b[1;32m     22\u001b[0m prac_df[\u001b[38;5;124m'\u001b[39m\u001b[38;5;124mtype\u001b[39m\u001b[38;5;124m'\u001b[39m] \u001b[38;5;241m=\u001b[39m \u001b[38;5;124m'\u001b[39m\u001b[38;5;124mpractice\u001b[39m\u001b[38;5;124m'\u001b[39m\n\u001b[1;32m     24\u001b[0m check_df \u001b[38;5;241m=\u001b[39m pd\u001b[38;5;241m.\u001b[39mconcat([rev_df,prep_df,prac_df])\u001b[38;5;241m.\u001b[39mreset_index()\u001b[38;5;241m.\u001b[39mdrop(columns\u001b[38;5;241m=\u001b[39m[\u001b[38;5;124m'\u001b[39m\u001b[38;5;124mindex\u001b[39m\u001b[38;5;124m'\u001b[39m])\n",
      "Cell \u001b[0;32mIn[1], line 20\u001b[0m, in \u001b[0;36m<listcomp>\u001b[0;34m(.0)\u001b[0m\n\u001b[1;32m     17\u001b[0m \u001b[38;5;28;01mwith\u001b[39;00m \u001b[38;5;28mopen\u001b[39m(\u001b[38;5;124m'\u001b[39m\u001b[38;5;124m../_data/practice_list.txt\u001b[39m\u001b[38;5;124m'\u001b[39m,\u001b[38;5;124m'\u001b[39m\u001b[38;5;124mr\u001b[39m\u001b[38;5;124m'\u001b[39m) \u001b[38;5;28;01mas\u001b[39;00m f:\n\u001b[1;32m     18\u001b[0m     pra \u001b[38;5;241m=\u001b[39m f\u001b[38;5;241m.\u001b[39mreadlines()\n\u001b[0;32m---> 20\u001b[0m prac_df \u001b[38;5;241m=\u001b[39m pd\u001b[38;5;241m.\u001b[39mDataFrame([[date_file[\u001b[38;5;241m0\u001b[39m][:\u001b[38;5;241m10\u001b[39m],\u001b[43mdate_file\u001b[49m\u001b[43m[\u001b[49m\u001b[38;5;241;43m1\u001b[39;49m\u001b[43m]\u001b[49m] \u001b[38;5;28;01mfor\u001b[39;00m date_file \u001b[38;5;129;01min\u001b[39;00m [a\u001b[38;5;241m.\u001b[39msplit() \u001b[38;5;28;01mfor\u001b[39;00m a \u001b[38;5;129;01min\u001b[39;00m pra]],\n\u001b[1;32m     21\u001b[0m                       columns \u001b[38;5;241m=\u001b[39m [\u001b[38;5;124m'\u001b[39m\u001b[38;5;124mdate\u001b[39m\u001b[38;5;124m'\u001b[39m,\u001b[38;5;124m'\u001b[39m\u001b[38;5;124mfile\u001b[39m\u001b[38;5;124m'\u001b[39m])\n\u001b[1;32m     22\u001b[0m prac_df[\u001b[38;5;124m'\u001b[39m\u001b[38;5;124mtype\u001b[39m\u001b[38;5;124m'\u001b[39m] \u001b[38;5;241m=\u001b[39m \u001b[38;5;124m'\u001b[39m\u001b[38;5;124mpractice\u001b[39m\u001b[38;5;124m'\u001b[39m\n\u001b[1;32m     24\u001b[0m check_df \u001b[38;5;241m=\u001b[39m pd\u001b[38;5;241m.\u001b[39mconcat([rev_df,prep_df,prac_df])\u001b[38;5;241m.\u001b[39mreset_index()\u001b[38;5;241m.\u001b[39mdrop(columns\u001b[38;5;241m=\u001b[39m[\u001b[38;5;124m'\u001b[39m\u001b[38;5;124mindex\u001b[39m\u001b[38;5;124m'\u001b[39m])\n",
      "\u001b[0;31mIndexError\u001b[0m: list index out of range"
     ]
    }
   ],
   "source": [
    "import pandas as pd\n",
    "\n",
    "with open('../_data/review_list.txt','r') as f:\n",
    "    rev = f.readlines()\n",
    "\n",
    "rev_df = pd.DataFrame([[date_file[0][:10],date_file[1]] for date_file in [a.split() for a in rev]],\n",
    "                      columns = ['date','file'])\n",
    "rev_df['type'] = 'review'\n",
    "\n",
    "with open('../_data/prepare_list.txt','r') as f:\n",
    "    pre = f.readlines()\n",
    "\n",
    "prep_df = pd.DataFrame([[date_file[0][:10],date_file[1]] for date_file in [a.split() for a in pre]],\n",
    "                      columns = ['date','file'])\n",
    "prep_df['type'] = 'prepare'\n",
    "\n",
    "with open('../_data/practice_list.txt','r') as f:\n",
    "    pra = f.readlines()\n",
    "\n",
    "prac_df = pd.DataFrame([[date_file[0][:10],date_file[1]] for date_file in [a.split() for a in pra]],\n",
    "                      columns = ['date','file'])\n",
    "prac_df['type'] = 'practice'\n",
    "\n",
    "check_df = pd.concat([rev_df,prep_df,prac_df]).reset_index().drop(columns=['index'])\n",
    "\n",
    "\n",
    "\n",
    "grade_free_dates = ['2022-09-14','2022-09-19','2022-09-21']\n",
    "gz = {True:'grade-free',False:'graded'}\n",
    "zoner = lambda d: gz[d in grade_free_dates]\n",
    "check_df['zone'] = check_df['date'].apply(zoner)\n",
    "check_df.sort_values(by='date').style.hide(axis=\"index\")"
   ]
  }
 ],
 "metadata": {
  "jupytext": {
   "text_representation": {
    "extension": ".md",
    "format_name": "myst",
    "format_version": 0.13,
    "jupytext_version": "1.10.3"
   }
  },
  "kernelspec": {
   "display_name": "Python 3",
   "language": "python",
   "name": "python3"
  },
  "language_info": {
   "codemirror_mode": {
    "name": "ipython",
    "version": 3
   },
   "file_extension": ".py",
   "mimetype": "text/x-python",
   "name": "python",
   "nbconvert_exporter": "python",
   "pygments_lexer": "ipython3",
   "version": "3.8.14"
  },
  "source_map": [
   12,
   95
  ]
 },
 "nbformat": 4,
 "nbformat_minor": 5
}